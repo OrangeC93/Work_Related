{
 "cells": [
  {
   "cell_type": "code",
   "execution_count": 1,
   "metadata": {},
   "outputs": [],
   "source": [
    "import pandas as pd\n",
    "import numpy as np\n",
    "import matplotlib.pyplot as plt"
   ]
  },
  {
   "cell_type": "code",
   "execution_count": 2,
   "metadata": {},
   "outputs": [],
   "source": [
    "nhefs = pd.read_excel('NHEFS.xls')"
   ]
  },
  {
   "cell_type": "code",
   "execution_count": 3,
   "metadata": {},
   "outputs": [
    {
     "data": {
      "text/html": [
       "<div>\n",
       "<style scoped>\n",
       "    .dataframe tbody tr th:only-of-type {\n",
       "        vertical-align: middle;\n",
       "    }\n",
       "\n",
       "    .dataframe tbody tr th {\n",
       "        vertical-align: top;\n",
       "    }\n",
       "\n",
       "    .dataframe thead th {\n",
       "        text-align: right;\n",
       "    }\n",
       "</style>\n",
       "<table border=\"1\" class=\"dataframe\">\n",
       "  <thead>\n",
       "    <tr style=\"text-align: right;\">\n",
       "      <th></th>\n",
       "      <th>seqn</th>\n",
       "      <th>qsmk</th>\n",
       "      <th>death</th>\n",
       "      <th>yrdth</th>\n",
       "      <th>modth</th>\n",
       "      <th>dadth</th>\n",
       "      <th>sbp</th>\n",
       "      <th>dbp</th>\n",
       "      <th>sex</th>\n",
       "      <th>age</th>\n",
       "      <th>...</th>\n",
       "      <th>birthcontrol</th>\n",
       "      <th>pregnancies</th>\n",
       "      <th>cholesterol</th>\n",
       "      <th>hightax82</th>\n",
       "      <th>price71</th>\n",
       "      <th>price82</th>\n",
       "      <th>tax71</th>\n",
       "      <th>tax82</th>\n",
       "      <th>price71_82</th>\n",
       "      <th>tax71_82</th>\n",
       "    </tr>\n",
       "  </thead>\n",
       "  <tbody>\n",
       "    <tr>\n",
       "      <th>0</th>\n",
       "      <td>233</td>\n",
       "      <td>0</td>\n",
       "      <td>0</td>\n",
       "      <td>NaN</td>\n",
       "      <td>NaN</td>\n",
       "      <td>NaN</td>\n",
       "      <td>175.0</td>\n",
       "      <td>96.0</td>\n",
       "      <td>0</td>\n",
       "      <td>42</td>\n",
       "      <td>...</td>\n",
       "      <td>2</td>\n",
       "      <td>NaN</td>\n",
       "      <td>197.0</td>\n",
       "      <td>0.0</td>\n",
       "      <td>2.183594</td>\n",
       "      <td>1.739990</td>\n",
       "      <td>1.102295</td>\n",
       "      <td>0.461975</td>\n",
       "      <td>0.443787</td>\n",
       "      <td>0.640381</td>\n",
       "    </tr>\n",
       "    <tr>\n",
       "      <th>1</th>\n",
       "      <td>235</td>\n",
       "      <td>0</td>\n",
       "      <td>0</td>\n",
       "      <td>NaN</td>\n",
       "      <td>NaN</td>\n",
       "      <td>NaN</td>\n",
       "      <td>123.0</td>\n",
       "      <td>80.0</td>\n",
       "      <td>0</td>\n",
       "      <td>36</td>\n",
       "      <td>...</td>\n",
       "      <td>2</td>\n",
       "      <td>NaN</td>\n",
       "      <td>301.0</td>\n",
       "      <td>0.0</td>\n",
       "      <td>2.346680</td>\n",
       "      <td>1.797363</td>\n",
       "      <td>1.364990</td>\n",
       "      <td>0.571899</td>\n",
       "      <td>0.549316</td>\n",
       "      <td>0.792969</td>\n",
       "    </tr>\n",
       "    <tr>\n",
       "      <th>2</th>\n",
       "      <td>244</td>\n",
       "      <td>0</td>\n",
       "      <td>0</td>\n",
       "      <td>NaN</td>\n",
       "      <td>NaN</td>\n",
       "      <td>NaN</td>\n",
       "      <td>115.0</td>\n",
       "      <td>75.0</td>\n",
       "      <td>1</td>\n",
       "      <td>56</td>\n",
       "      <td>...</td>\n",
       "      <td>0</td>\n",
       "      <td>2.0</td>\n",
       "      <td>157.0</td>\n",
       "      <td>0.0</td>\n",
       "      <td>1.569580</td>\n",
       "      <td>1.513428</td>\n",
       "      <td>0.551270</td>\n",
       "      <td>0.230988</td>\n",
       "      <td>0.056198</td>\n",
       "      <td>0.320251</td>\n",
       "    </tr>\n",
       "    <tr>\n",
       "      <th>3</th>\n",
       "      <td>245</td>\n",
       "      <td>0</td>\n",
       "      <td>1</td>\n",
       "      <td>85.0</td>\n",
       "      <td>2.0</td>\n",
       "      <td>14.0</td>\n",
       "      <td>148.0</td>\n",
       "      <td>78.0</td>\n",
       "      <td>0</td>\n",
       "      <td>68</td>\n",
       "      <td>...</td>\n",
       "      <td>2</td>\n",
       "      <td>NaN</td>\n",
       "      <td>174.0</td>\n",
       "      <td>0.0</td>\n",
       "      <td>1.506592</td>\n",
       "      <td>1.451904</td>\n",
       "      <td>0.524902</td>\n",
       "      <td>0.219971</td>\n",
       "      <td>0.054794</td>\n",
       "      <td>0.304993</td>\n",
       "    </tr>\n",
       "    <tr>\n",
       "      <th>4</th>\n",
       "      <td>252</td>\n",
       "      <td>0</td>\n",
       "      <td>0</td>\n",
       "      <td>NaN</td>\n",
       "      <td>NaN</td>\n",
       "      <td>NaN</td>\n",
       "      <td>118.0</td>\n",
       "      <td>77.0</td>\n",
       "      <td>0</td>\n",
       "      <td>40</td>\n",
       "      <td>...</td>\n",
       "      <td>2</td>\n",
       "      <td>NaN</td>\n",
       "      <td>216.0</td>\n",
       "      <td>0.0</td>\n",
       "      <td>2.346680</td>\n",
       "      <td>1.797363</td>\n",
       "      <td>1.364990</td>\n",
       "      <td>0.571899</td>\n",
       "      <td>0.549316</td>\n",
       "      <td>0.792969</td>\n",
       "    </tr>\n",
       "  </tbody>\n",
       "</table>\n",
       "<p>5 rows × 64 columns</p>\n",
       "</div>"
      ],
      "text/plain": [
       "   seqn  qsmk  death  yrdth  modth  dadth    sbp   dbp  sex  age  ...  \\\n",
       "0   233     0      0    NaN    NaN    NaN  175.0  96.0    0   42  ...   \n",
       "1   235     0      0    NaN    NaN    NaN  123.0  80.0    0   36  ...   \n",
       "2   244     0      0    NaN    NaN    NaN  115.0  75.0    1   56  ...   \n",
       "3   245     0      1   85.0    2.0   14.0  148.0  78.0    0   68  ...   \n",
       "4   252     0      0    NaN    NaN    NaN  118.0  77.0    0   40  ...   \n",
       "\n",
       "   birthcontrol  pregnancies  cholesterol  hightax82   price71   price82  \\\n",
       "0             2          NaN        197.0        0.0  2.183594  1.739990   \n",
       "1             2          NaN        301.0        0.0  2.346680  1.797363   \n",
       "2             0          2.0        157.0        0.0  1.569580  1.513428   \n",
       "3             2          NaN        174.0        0.0  1.506592  1.451904   \n",
       "4             2          NaN        216.0        0.0  2.346680  1.797363   \n",
       "\n",
       "      tax71     tax82  price71_82  tax71_82  \n",
       "0  1.102295  0.461975    0.443787  0.640381  \n",
       "1  1.364990  0.571899    0.549316  0.792969  \n",
       "2  0.551270  0.230988    0.056198  0.320251  \n",
       "3  0.524902  0.219971    0.054794  0.304993  \n",
       "4  1.364990  0.571899    0.549316  0.792969  \n",
       "\n",
       "[5 rows x 64 columns]"
      ]
     },
     "execution_count": 3,
     "metadata": {},
     "output_type": "execute_result"
    }
   ],
   "source": [
    "nhefs.head()"
   ]
  },
  {
   "cell_type": "code",
   "execution_count": 4,
   "metadata": {},
   "outputs": [],
   "source": [
    "c_list = [c for c in nhefs.columns if nhefs[c].nunique()>3]"
   ]
  },
  {
   "cell_type": "code",
   "execution_count": 5,
   "metadata": {},
   "outputs": [],
   "source": [
    "def convert_to_normal(df, m):\n",
    "    min_value = min(df)  \n",
    "    if min_value<=0:\n",
    "        df = df - min_value+1\n",
    "    if m == 'log':\n",
    "        return np.log(df)\n",
    "    elif m == 'boxcox':\n",
    "        fitted, lambda_value = boxcox(df)\n",
    "        return fitted"
   ]
  },
  {
   "cell_type": "code",
   "execution_count": 6,
   "metadata": {
    "scrolled": false
   },
   "outputs": [
    {
     "name": "stdout",
     "output_type": "stream",
     "text": [
      "seqn have non-normal distribution with pvalue of 9.439453243646321e-35\n",
      "yrdth have non-normal distribution with pvalue of 1.164404017650611e-09\n",
      "modth have non-normal distribution with pvalue of 2.3280143437998113e-11\n",
      "dadth have non-normal distribution with pvalue of 4.703114342419212e-09\n",
      "sbp have non-normal distribution with pvalue of 6.45380272586709e-20\n",
      "      transformed(sbp) have normal distribution with pvalue of 0.3076455295085907\n",
      "dbp have non-normal distribution with pvalue of 3.0910778381354476e-09\n",
      "age have non-normal distribution with pvalue of 7.984184052812166e-19\n",
      "income have non-normal distribution with pvalue of 2.829356409830349e-30\n",
      "marital is not a continuous variable\n",
      "school have non-normal distribution with pvalue of 1.6159102929002382e-29\n",
      "education have non-normal distribution with pvalue of 7.040791656879052e-33\n",
      "ht have non-normal distribution with pvalue of 8.373375237624714e-08\n",
      "wt71 have non-normal distribution with pvalue of 4.769122746371552e-21\n",
      "      transformed(wt71) have normal distribution with pvalue of 0.4711112678050995\n",
      "wt82 have non-normal distribution with pvalue of 9.299855969313231e-18\n",
      "      transformed(wt82) have normal distribution with pvalue of 0.5129849910736084\n",
      "wt82_71 have non-normal distribution with pvalue of 8.120709146626535e-21\n",
      "birthplace have non-normal distribution with pvalue of 1.5742690745546963e-19\n",
      "smokeintensity have non-normal distribution with pvalue of 8.530235502077642e-28\n",
      "smkintensity82_71 have non-normal distribution with pvalue of 2.9497664414206695e-23\n",
      "smokeyrs have non-normal distribution with pvalue of 7.932500820486202e-15\n",
      "alcoholfreq have non-normal distribution with pvalue of 9.566912177839573e-31\n",
      "alcoholtype have non-normal distribution with pvalue of 2.0361006816486025e-40\n",
      "alcoholhowmuch have non-normal distribution with pvalue of 1.6815581571897805e-44\n",
      "pregnancies have non-normal distribution with pvalue of 5.62973349179587e-22\n",
      "cholesterol have non-normal distribution with pvalue of 1.5040571869559538e-12\n",
      "price71 have non-normal distribution with pvalue of 8.996044531471715e-25\n",
      "price82 have non-normal distribution with pvalue of 6.118331873627967e-19\n",
      "tax71 have non-normal distribution with pvalue of 9.280823909902179e-24\n",
      "tax82 have non-normal distribution with pvalue of 3.055673838761726e-18\n",
      "price71_82 have non-normal distribution with pvalue of 4.250285266996726e-17\n",
      "tax71_82 have non-normal distribution with pvalue of 1.7795829604733724e-20\n"
     ]
    }
   ],
   "source": [
    "from scipy.stats import shapiro\n",
    "from scipy.stats import boxcox\n",
    "for c in c_list:\n",
    "    try:\n",
    "        stats, p = shapiro(nhefs[c].dropna())\n",
    "        if p == 0:\n",
    "            print(f'{c} is not a continuous variable')\n",
    "        elif p == 1:\n",
    "            print(f'{c} has nan values')\n",
    "        elif p >0.05:\n",
    "            print(f'{c} have normal distribution with pvalue of {p}')\n",
    "        else:\n",
    "            print(f'{c} have non-normal distribution with pvalue of {p}')\n",
    "            stats, p = shapiro(convert_to_normal(nhefs[c].dropna(),'boxcox'))    \n",
    "            if p > 0.05:\n",
    "                print(f'      transformed({c}) have normal distribution with pvalue of {p}')\n",
    "#             else: \n",
    "#                 print(f'      log({c}) have non-normal distribution with pvalue of {p}')\n",
    "    except Exception as e:\n",
    "        print(e)"
   ]
  },
  {
   "cell_type": "code",
   "execution_count": 8,
   "metadata": {
    "scrolled": false
   },
   "outputs": [
    {
     "data": {
      "image/png": "[encoded data removed]",
      "text/plain": [
       "<Figure size 432x288 with 1 Axes>"
      ]
     },
     "metadata": {
      "needs_background": "light"
     },
     "output_type": "display_data"
    },
    {
     "data": {
      "text/plain": [
       "{'whiskers': [<matplotlib.lines.Line2D at 0x7fe867f25e10>,\n",
       "  <matplotlib.lines.Line2D at 0x7fe86801a4e0>],\n",
       " 'caps': [<matplotlib.lines.Line2D at 0x7fe86801a828>,\n",
       "  <matplotlib.lines.Line2D at 0x7fe86801ab70>],\n",
       " 'boxes': [<matplotlib.lines.Line2D at 0x7fe867f25b00>],\n",
       " 'medians': [<matplotlib.lines.Line2D at 0x7fe86801aeb8>],\n",
       " 'fliers': [],\n",
       " 'means': []}"
      ]
     },
     "execution_count": 8,
     "metadata": {},
     "output_type": "execute_result"
    },
    {
     "data": {
      "image/png": "[encoded data removed]",
      "text/plain": [
       "<Figure size 432x288 with 1 Axes>"
      ]
     },
     "metadata": {
      "needs_background": "light"
     },
     "output_type": "display_data"
    },
    {
     "data": {
      "image/png": "[encoded data removed]",
      "text/plain": [
       "<Figure size 432x288 with 1 Axes>"
      ]
     },
     "metadata": {
      "needs_background": "light"
     },
     "output_type": "display_data"
    }
   ],
   "source": [
    "import numpy as np\n",
    "import scipy.stats as stats\n",
    "import pylab\n",
    "\n",
    "data= convert_to_normal(nhefs['wt71'].dropna(), 'boxcox')\n",
    "\n",
    "## Q-Q plot\n",
    "stats.probplot(data, dist='norm', plot=pylab)\n",
    "pylab.show()\n",
    "\n",
    "\n",
    "## Histgram\n",
    "(values, bins, _) = plt.hist(data,  density=True)\n",
    "bin_centers = 0.5*(bins[1:] + bins[:-1])\n",
    "mu = np.mean(data)\n",
    "sigma = data.std()\n",
    "\n",
    "pdf = stats.norm.pdf(x = bin_centers, loc=mu, scale=sigma) #Compute probability density function\n",
    "plt.plot(bin_centers, pdf, label=\"PDF\",color='red')\n",
    "\n",
    "\n",
    "## Box plot\n",
    "fig, ax = plt.subplots()\n",
    "ax.boxplot(data, showfliers=False, vert=False)"
   ]
  },
  {
   "cell_type": "markdown",
   "metadata": {},
   "source": [
    "#### Pythonic Tip: Difference between Numpy variance and Pandas variance\n",
    "\n",
    "Variance is the average squared deviations from the mean, while standard deviation is the square root of this number. Both measures reflect variability in a distribution, but their units differ:\n",
    "\n",
    "Standard deviation is expressed in the same units as the original values (e.g., minutes or meters).\n",
    "Variance is expressed in much larger units (e.g., meters squared)."
   ]
  },
  {
   "cell_type": "code",
   "execution_count": 9,
   "metadata": {},
   "outputs": [
    {
     "data": {
      "text/plain": [
       "0    4.916667\n",
       "dtype: float64"
      ]
     },
     "execution_count": 9,
     "metadata": {},
     "output_type": "execute_result"
    }
   ],
   "source": [
    "import numpy as np\n",
    "import pandas as pd\n",
    "\n",
    "arr = pd.DataFrame([5,3,1,6])\n",
    "# numpy, population\n",
    "arr.values.var()\n",
    "# numpy, sample\n",
    "arr.values.var(ddof=1)\n",
    "\n",
    "\n",
    "# pandas, population\n",
    "arr.var(ddof=0)\n",
    "# pandas, sample\n",
    "arr.var()"
   ]
  },
  {
   "cell_type": "markdown",
   "metadata": {},
   "source": [
    "# Overview Guidline\n",
    "![title](diagram.png)"
   ]
  },
  {
   "cell_type": "markdown",
   "metadata": {},
   "source": [
    "## 1. Confidence interval of normal distribution\n",
    "\n",
    "### 1.1. Confidence interval of mean\n",
    "\n",
    "If sample data is normal or normal-like distributed, we almost always assume t-distribution to compute confidence interval.\n",
    "\n",
    "- When computing s, correction factor (n−1) is applied to account for sample bias\n",
    "- As the sample size n increases, the standard error decreases, reducing the range of confidence interval. The more samples we have, the less uncertainty we have with our statistical estimation\n",
    "\n",
    "#### 1.1.1 formula alculation"
   ]
  },
  {
   "cell_type": "code",
   "execution_count": 10,
   "metadata": {
    "scrolled": false
   },
   "outputs": [
    {
     "data": {
      "text/plain": [
       "(1629, 1629)"
      ]
     },
     "execution_count": 10,
     "metadata": {},
     "output_type": "execute_result"
    }
   ],
   "source": [
    "len(nhefs), len(data)"
   ]
  },
  {
   "cell_type": "code",
   "execution_count": 15,
   "metadata": {},
   "outputs": [],
   "source": [
    "alpha =0.05\n",
    "df = len(data) - 1 # degress of freedom\n",
    "t = stats.t.ppf(1 - alpha/2, df) # t-critical value for 95%\n",
    "s = np.std(data, ddof=1) # sample standard deviation \n",
    "n = len(data)\n",
    "se = s / np.sqrt(n) # standard error"
   ]
  },
  {
   "cell_type": "code",
   "execution_count": 16,
   "metadata": {},
   "outputs": [
    {
     "data": {
      "text/plain": [
       "(2.325341801600251, 2.3307363990554926)"
      ]
     },
     "execution_count": 16,
     "metadata": {},
     "output_type": "execute_result"
    }
   ],
   "source": [
    "lower = np.mean(data) - (t * se)\n",
    "upper = np.mean(data) + (t * se)\n",
    "\n",
    "(lower, upper)"
   ]
  },
  {
   "cell_type": "markdown",
   "metadata": {},
   "source": [
    "#### 1.1.2 scipy.stats.t.interval()"
   ]
  },
  {
   "cell_type": "code",
   "execution_count": 17,
   "metadata": {},
   "outputs": [
    {
     "data": {
      "text/plain": [
       "(2.325341801600251, 2.3307363990554926)"
      ]
     },
     "execution_count": 17,
     "metadata": {},
     "output_type": "execute_result"
    }
   ],
   "source": [
    "stats.t.interval(1 - alpha, \n",
    "                 len(data) - 1, \n",
    "                 loc=np.mean(data), # mean\n",
    "                 scale=stats.sem(data)) # standard error"
   ]
  },
  {
   "cell_type": "markdown",
   "metadata": {},
   "source": [
    "## 2. Confidence interval of difference in mean\n",
    "\n",
    "Notes: Comparing means of more than two samples with ANOVA. Using t-test is not reliable in cases where there are more than 2 samples. If we conduct multiple t-tests for comparing more than two samples, it will have a compounded effect on the error rate of the result.\n",
    "\n",
    "\n",
    "### 2.1. Independent (unpaired) samples, equal variance - student's t-interval\n",
    "For example purpose, suppose they're equal variance, but infact they are not."
   ]
  },
  {
   "cell_type": "code",
   "execution_count": 18,
   "metadata": {},
   "outputs": [
    {
     "name": "stdout",
     "output_type": "stream",
     "text": [
      "1566 1629 1552\n",
      "0.013154497237763327 0.0030806119653617715 6.4701671420617164e-06\n"
     ]
    }
   ],
   "source": [
    "x1 = convert_to_normal(nhefs['wt82'].dropna(), 'boxcox')\n",
    "x2 = convert_to_normal(nhefs['wt71'].dropna(), 'boxcox')\n",
    "x3 = convert_to_normal(nhefs['sbp'].dropna(), 'boxcox')\n",
    "\n",
    "print(len(x1), len(x2), len(x3))\n",
    "\n",
    "print(x1.var(ddof=1), x2.var(ddof=1), x3.var(ddof=1))"
   ]
  },
  {
   "cell_type": "code",
   "execution_count": 105,
   "metadata": {},
   "outputs": [],
   "source": [
    "alpha = 0.05                                                 # significance level = 5%\n",
    "n1, n2 = len(x1), len(x2)                                    # sample sizes\n",
    "s1, s2 = np.var(x1, ddof=1), np.var(x2, ddof=1)              # sample variances\n",
    "s = np.sqrt(((n1 - 1) * s1 + (n2 - 1) * s2) / (n1 + n2 - 2)) # pooled standard deviation\n",
    "df = n1 + n2 - 2                                             # degrees of freedom\n",
    "t = stats.t.ppf(1 - alpha/2, df)                             # t-critical value for 95% CI"
   ]
  },
  {
   "cell_type": "code",
   "execution_count": 106,
   "metadata": {
    "scrolled": true
   },
   "outputs": [
    {
     "data": {
      "text/plain": [
       "(0.8355354112105238, 0.8479622152254647)"
      ]
     },
     "execution_count": 106,
     "metadata": {},
     "output_type": "execute_result"
    }
   ],
   "source": [
    "lower = (np.mean(x1) - np.mean(x2)) - t * np.sqrt(1 / len(x1) + 1 / len(x2)) * s\n",
    "upper = (np.mean(x1) - np.mean(x2)) + t * np.sqrt(1 / len(x1) + 1 / len(x2)) * s\n",
    "(lower, upper)"
   ]
  },
  {
   "cell_type": "markdown",
   "metadata": {},
   "source": [
    "The 95% confidence interval of difference in means has not have 0 within its interval. This means that the null hypothesis, H0:μ1−μ2=0 falls outside the interval and we reject the null hypothesis. \n",
    "\n",
    "\n",
    "We conclude that the sample means are significantly different.\n",
    "\n",
    "OR.. **stats.ttest_ind()**"
   ]
  },
  {
   "cell_type": "code",
   "execution_count": 21,
   "metadata": {
    "scrolled": false
   },
   "outputs": [
    {
     "data": {
      "text/plain": [
       "Ttest_indResult(statistic=265.6230797133454, pvalue=0.0)"
      ]
     },
     "execution_count": 21,
     "metadata": {},
     "output_type": "execute_result"
    }
   ],
   "source": [
    "stats.ttest_ind(x1, x2, equal_var=True)"
   ]
  },
  {
   "cell_type": "markdown",
   "metadata": {},
   "source": [
    "### 2.2 Independent (unpaired) samples, unequal variance - Welch's t-interval\n",
    "\n",
    "When comparing central tendency of normal distributions, it is safer, and therefore recommended to always use Welch's t-test, which assumes unequal variances of samples."
   ]
  },
  {
   "cell_type": "code",
   "execution_count": 22,
   "metadata": {},
   "outputs": [],
   "source": [
    "alpha = 0.05                                                       # significance level = 5%\n",
    "n1, n2 = len(x1), len(x2)                                          # sample sizes\n",
    "s1, s2 = np.var(x1, ddof=1), np.var(x2, ddof=1)                    # sample variances\n",
    "df = (s1/n1 + s2/n2)**2 / ((s1/n1)**2/(n1-1) + (s2/n2)**2/(n2-1))  # degrees of freedom\n",
    "t = stats.t.ppf(1 - alpha/2, df)                                   # t-critical value for 95% CI"
   ]
  },
  {
   "cell_type": "code",
   "execution_count": 23,
   "metadata": {},
   "outputs": [
    {
     "data": {
      "text/plain": [
       "(0.837896865846161, 0.8456007605898275)"
      ]
     },
     "execution_count": 23,
     "metadata": {},
     "output_type": "execute_result"
    }
   ],
   "source": [
    "lower = (np.mean(x1) - np.mean(x2)) - t * np.sqrt(1 / len(x1) + 1 / len(x2)) * s\n",
    "upper = (np.mean(x1) - np.mean(x2)) + t * np.sqrt(1 / len(x1) + 1 / len(x2)) * s\n",
    "(lower, upper)"
   ]
  },
  {
   "cell_type": "markdown",
   "metadata": {},
   "source": [
    "OR.. **stats.ttest_ind()**"
   ]
  },
  {
   "cell_type": "code",
   "execution_count": 24,
   "metadata": {},
   "outputs": [
    {
     "data": {
      "text/plain": [
       "Ttest_indResult(statistic=262.39174818167413, pvalue=0.0)"
      ]
     },
     "execution_count": 24,
     "metadata": {},
     "output_type": "execute_result"
    }
   ],
   "source": [
    "stats.ttest_ind(x1, x2, equal_var=False)"
   ]
  },
  {
   "cell_type": "markdown",
   "metadata": {},
   "source": [
    "### 2.3. Dependent (paired) samples - Paired t-interval"
   ]
  },
  {
   "cell_type": "markdown",
   "metadata": {},
   "source": [
    "A school develops a tutoring program to improve the SAT scores of high school students. A school requires students to take tests before & after tutoring, and checks if the tutoring had a significant impact on the SAT scores of students. Because the test subjects are compared to themselves, not anyone elses, the measurements taken before & after the training are not independent."
   ]
  },
  {
   "cell_type": "code",
   "execution_count": 25,
   "metadata": {},
   "outputs": [
    {
     "data": {
      "text/plain": [
       "(-308.64567899681356, -77.35432100318641)"
      ]
     },
     "execution_count": 25,
     "metadata": {},
     "output_type": "execute_result"
    }
   ],
   "source": [
    "x1 = np.array([1480, 1280, 890, 340, 1550, 1230, 1010, 1590, 1390, 980])\n",
    "x2 = np.array([1510, 1460, 1320, 700, 1550, 1420, 1340, 1570, 1500, 1300])\n",
    "\n",
    "alpha = 0.05                        # significance level = 5%\n",
    "d_bar = np.mean(x1 - x2)            # average of sample differences\n",
    "s_d = np.std(x1 - x2, ddof=1)       # sample standard deviation of sample differences\n",
    "n = len(x1)                         # sample size\n",
    "df = n - 1                          # degrees of freedom\n",
    "t = stats.t.ppf(1 - alpha/2, df)    # t-critical value for 95% CI\n",
    "\n",
    "lower = d_bar - t * s_d / np.sqrt(n)\n",
    "upper = d_bar + t * s_d / np.sqrt(n)\n",
    "(lower, upper)"
   ]
  },
  {
   "cell_type": "markdown",
   "metadata": {},
   "source": [
    "The 95% confidence interval of difference in means for dependent samples does not have 0 within its interval. This means that the null hypothesis, H0:μ1−μ2=0 in figure (9), does not fall within the interval. Instead, our estimation falls within the 2.5% outlier zone on the left, We reject the null hypothesis.\n",
    "\n",
    "OR..**stats.ttest_rel()**"
   ]
  },
  {
   "cell_type": "code",
   "execution_count": 26,
   "metadata": {
    "scrolled": true
   },
   "outputs": [
    {
     "data": {
      "text/plain": [
       "Ttest_relResult(statistic=-3.7752930865755987, pvalue=0.004380623368522125)"
      ]
     },
     "execution_count": 26,
     "metadata": {},
     "output_type": "execute_result"
    }
   ],
   "source": [
    "stats.ttest_rel(x1, x2)"
   ]
  },
  {
   "cell_type": "markdown",
   "metadata": {},
   "source": [
    "**Notes:** The above hypothesis testing answers the question of \"Did this tutoring program had a significant impact on the SAT scores of students?\". However, in cases like this, a more intuitive question is \"Did this tutoring program significantly improve the SAT scores of students?\" The former uses two-tailed test, and the latter uses one-tailed test, and the procedures for them are a little different."
   ]
  },
  {
   "cell_type": "markdown",
   "metadata": {},
   "source": [
    "## 3. Confidence interval of variance\n",
    "Confidence interval of variance is used to estimate the population variance from sample data and quantify the related uncertainty.  C.I. of variance is seldom used by itself, but rather used in conjunction with f-test, which tests equality of variances of different populations.\n",
    "\n",
    "- When sample is **normal**, you can use **f-test or Barlett's test** to check equality of variances. \n",
    "- When the sample is **not normal**, use non-parametric alternative like **Levene's test**."
   ]
  },
  {
   "cell_type": "code",
   "execution_count": 27,
   "metadata": {},
   "outputs": [],
   "source": [
    "arr = nhefs['income']\n",
    "alpha = 0.05               # significance level = 5%\n",
    "n = len(arr)               # sample sizes\n",
    "s2 = np.var(arr, ddof=1)   # sample variance\n",
    "df = n - 1                 # degrees of freedom"
   ]
  },
  {
   "cell_type": "code",
   "execution_count": 29,
   "metadata": {},
   "outputs": [
    {
     "data": {
      "text/plain": [
       "(6.629926567364578, 7.606693587382899)"
      ]
     },
     "execution_count": 29,
     "metadata": {},
     "output_type": "execute_result"
    }
   ],
   "source": [
    "upper = (n - 1) * s2 / stats.chi2.ppf(alpha / 2, df)\n",
    "lower = (n - 1) * s2 / stats.chi2.ppf(1 - alpha / 2, df)\n",
    "(lower, upper)"
   ]
  },
  {
   "cell_type": "markdown",
   "metadata": {},
   "source": [
    "The output suggests that the 95% confidence interval of variance is betwteen 6.6 and 7.6"
   ]
  },
  {
   "cell_type": "markdown",
   "metadata": {},
   "source": [
    "Using f_oneway\n",
    "https://www.pythonfordatascience.org/anova-python/#anova_scipy_stats"
   ]
  },
  {
   "cell_type": "code",
   "execution_count": 30,
   "metadata": {},
   "outputs": [
    {
     "data": {
      "text/plain": [
       "0.0"
      ]
     },
     "execution_count": 30,
     "metadata": {},
     "output_type": "execute_result"
    }
   ],
   "source": [
    "from scipy.stats import f_oneway\n",
    "\n",
    "x1 = convert_to_normal(nhefs['wt82'].dropna(), 'boxcox')\n",
    "x2 = convert_to_normal(nhefs['wt71'].dropna(), 'boxcox')\n",
    "\n",
    "# x1 = np.array([1480, 1280, 890, 340, 1550, 1230, 1010, 1590, 1390, 980])\n",
    "# x2 = np.array([1510, 1460, 1320, 700, 1550, 1420, 1340, 1570, 1500, 1300])\n",
    "\n",
    "F, p = f_oneway(x1, x2)\n",
    "p"
   ]
  },
  {
   "cell_type": "markdown",
   "metadata": {},
   "source": [
    "## 4. Bootstrap\n",
    "### 4.1 Basic bootstrap"
   ]
  },
  {
   "cell_type": "code",
   "execution_count": 88,
   "metadata": {},
   "outputs": [],
   "source": [
    "# prepare original sample data\n",
    "\n",
    "np.random.seed(42)\n",
    "n = 500\n",
    "arr = np.random.normal(loc=0.15, scale=2, size=n)# 0.022\n",
    "# single bootstrapping\n",
    "\n",
    "single_boot = np.random.choice(arr, len(arr))"
   ]
  },
  {
   "cell_type": "code",
   "execution_count": 89,
   "metadata": {},
   "outputs": [
    {
     "data": {
      "text/plain": [
       "500"
      ]
     },
     "execution_count": 89,
     "metadata": {},
     "output_type": "execute_result"
    }
   ],
   "source": [
    "len(single_boot)"
   ]
  },
  {
   "cell_type": "markdown",
   "metadata": {},
   "source": [
    "### 4.2 Basic bootstrap with Monte-Carlo method\n",
    "Bootstrap is often combined with Monte-Carlo method to quantify uncertainty in statistics (ex: mean, median, variance, etc...). It just means that you generate multiple instances of the single_boot object above."
   ]
  },
  {
   "cell_type": "code",
   "execution_count": 90,
   "metadata": {},
   "outputs": [],
   "source": [
    "# 1000 monte-carlo bootstrapping\n",
    "\n",
    "r = 1000\n",
    "monte_boot = [np.random.choice(arr, len(arr)) for _ in range(r)]"
   ]
  },
  {
   "cell_type": "code",
   "execution_count": 91,
   "metadata": {
    "scrolled": true
   },
   "outputs": [
    {
     "data": {
      "text/plain": [
       "(1000, 500)"
      ]
     },
     "execution_count": 91,
     "metadata": {},
     "output_type": "execute_result"
    }
   ],
   "source": [
    "len(monte_boot), len(monte_boot[0])"
   ]
  },
  {
   "cell_type": "code",
   "execution_count": 92,
   "metadata": {},
   "outputs": [
    {
     "data": {
      "image/png": "[encoded data removed]",
      "text/plain": [
       "<Figure size 1008x288 with 2 Axes>"
      ]
     },
     "metadata": {
      "needs_background": "light"
     },
     "output_type": "display_data"
    }
   ],
   "source": [
    "fig, axes = plt.subplots(1, 2, figsize=(14, 4))\n",
    "axes[0].hist(arr, bins='auto', range=(min(arr), max(arr)), histtype='step', density=True)\n",
    "for boot in monte_boot:\n",
    "    axes[1].hist(boot, bins='auto', range=(min(boot), max(boot)), histtype='step', density=True)\n",
    "\n",
    "for ax in axes:\n",
    "    ax.grid(True, linestyle='--', color='#acacac')\n",
    "    ax.set_ylabel('Probability', fontsize=15)\n",
    "    ax.set_xlabel('$X$', fontsize=15)\n",
    "axes[0].set_title('Original sample', fontsize=15)\n",
    "axes[1].set_title('% s bootstrap samples' % r, fontsize=15)\n",
    "fig.tight_layout()"
   ]
  },
  {
   "cell_type": "markdown",
   "metadata": {},
   "source": [
    "### 4.3 Basic bootstrap with Monte-Carlo method + constructing confidence intervals"
   ]
  },
  {
   "cell_type": "markdown",
   "metadata": {},
   "source": [
    "Note: this is a test, bootstrap results changres as batch and size increase"
   ]
  },
  {
   "cell_type": "code",
   "execution_count": 111,
   "metadata": {
    "scrolled": true
   },
   "outputs": [],
   "source": [
    "import numpy as np\n",
    "\n",
    "# 100 monte-carlo bootstrapping\n",
    "\n",
    "def bootstrap_f(r):\n",
    "    monte_boot_mean = [np.mean(np.random.choice(arr, len(arr))) for _ in range(r)]\n",
    "    monte_boot_median = [np.median(np.random.choice(arr, len(arr))) for _ in range(r)]\n",
    "    monte_boot_std = [np.std(np.random.choice(arr, len(arr)), ddof=1) for _ in range(r)]\n",
    "    monte_boot_skew = [stats.skew(np.random.choice(arr, len(arr))) for _ in range(r)]\n",
    "    monte_boot_kurtosis = [stats.kurtosis(np.random.choice(arr, len(arr))) for _ in range(r)]\n",
    "    # use the 25th value and the 975th value of the ranked differences as boundaries of the 95% confidence interval. \n",
    "    print(np.percentile(monte_boot_mean, 2.5), np.percentile(monte_boot_mean, 97.5))"
   ]
  },
  {
   "cell_type": "code",
   "execution_count": 112,
   "metadata": {
    "scrolled": true
   },
   "outputs": [
    {
     "name": "stdout",
     "output_type": "stream",
     "text": [
      "0.029960838123527265 0.3544803584181303\n",
      "-0.013764925273088346 0.33235367575342445\n"
     ]
    }
   ],
   "source": [
    "bootstrap_f(50)\n",
    "\n",
    "bootstrap_f(5000)"
   ]
  },
  {
   "cell_type": "markdown",
   "metadata": {},
   "source": [
    "We cannot see a difference here as batch increase"
   ]
  },
  {
   "cell_type": "code",
   "execution_count": 113,
   "metadata": {},
   "outputs": [
    {
     "name": "stdout",
     "output_type": "stream",
     "text": [
      "-0.37797310128294825 0.7027664595588564\n"
     ]
    }
   ],
   "source": [
    "import numpy as np\n",
    "\n",
    "# 100 monte-carlo bootstrapping\n",
    "\n",
    "r = 5000\n",
    "monte_boot_mean = [np.mean(np.random.choice(arr, 50)) for _ in range(r)]\n",
    "monte_boot_median = [np.median(np.random.choice(arr, 50)) for _ in range(r)]\n",
    "monte_boot_std = [np.std(np.random.choice(arr, 50), ddof=1) for _ in range(r)]\n",
    "monte_boot_skew = [stats.skew(np.random.choice(arr, 50)) for _ in range(r)]\n",
    "monte_boot_kurtosis = [stats.kurtosis(np.random.choice(arr, 50)) for _ in range(r)]\n",
    "\n",
    "print(np.percentile(monte_boot_mean, 2.5), np.percentile(monte_boot_mean, 97.5))"
   ]
  },
  {
   "cell_type": "markdown",
   "metadata": {},
   "source": [
    "We see a difference as size decrease, the range of mean is wider,\n",
    "\n",
    "then plot them out"
   ]
  },
  {
   "cell_type": "code",
   "execution_count": 54,
   "metadata": {},
   "outputs": [],
   "source": [
    "def custom_stats(arr):\n",
    "    return sum(arr) / len(arr) + 0.002\n",
    "\n",
    "monte_boot_custom = [custom_stats(np.random.choice(arr, len(arr))) for _ in range(r)]"
   ]
  },
  {
   "cell_type": "code",
   "execution_count": 70,
   "metadata": {},
   "outputs": [
    {
     "data": {
      "text/plain": [
       "Text(0.5, 0.98, 'Monte-Carlo bootstrap uncertainty modeling')"
      ]
     },
     "execution_count": 70,
     "metadata": {},
     "output_type": "execute_result"
    },
    {
     "data": {
      "image/png": "[encoded data removed]",
      "text/plain": [
       "<Figure size 1008x288 with 2 Axes>"
      ]
     },
     "metadata": {
      "needs_background": "light"
     },
     "output_type": "display_data"
    }
   ],
   "source": [
    "# plotting\n",
    "styling = {'sym': '',\n",
    "           'whis': [2.5, 97.5],\n",
    "           'showfliers': False,\n",
    "           'vert': True,\n",
    "           'boxprops': dict(linewidth=2.0, color='#4e98c3'),\n",
    "           'whiskerprops': dict(linewidth=2.0, color='#4e98c3', linestyle='--'),\n",
    "           'capprops': dict(linewidth=2.0, color='k'),\n",
    "           'medianprops': dict(linewidth=2.0, color='#ad203e')\n",
    "}\n",
    "\n",
    "fig, axes = plt.subplots(1, 2, figsize=(14, 4))\n",
    "\n",
    "axes[0].boxplot([monte_boot_mean, monte_boot_median, monte_boot_custom], **styling)\n",
    "axes[1].boxplot([monte_boot_std, monte_boot_skew, monte_boot_kurtosis], **styling)\n",
    "axes[0].set_xticklabels(['Mean', 'Median', '\"Custom\"'], fontsize=20)\n",
    "axes[1].set_xticklabels(['Stdev', 'Skew', 'Kurtosis'], fontsize=20)\n",
    "for ax in axes:\n",
    "    ax.set_facecolor('#eeeeee')\n",
    "    ax.grid(True, linestyle='--', color='#acacac')\n",
    "    ax.text(0.25, 0.85, 'aegis4048.github.io', fontsize=17, ha='center', va='center',\n",
    "            transform=ax.transAxes, color='grey', alpha=0.5);\n",
    "fig.tight_layout(rect=[0, 0.03, 1, 0.92])\n",
    "fig.suptitle('Monte-Carlo bootstrap uncertainty modeling', fontsize=25)"
   ]
  },
  {
   "cell_type": "markdown",
   "metadata": {},
   "source": [
    "### 5. Confidence interval of non-normal distribution\n",
    "\n",
    "One of the biggest assumptions in the field of statistics is the assumption of **normality**. It is important because of the two key characteristics of normal distribution: **symmetry (low skew)** and **light/short-tails (low kurtosis)**.\n",
    "- Symmetry is important because many statistical techniques use ± standard error methods that assume equal properties from both sides of a distribution. \n",
    "- Heavy-tailedness is detrimental in inferencing population parameters because heavy tailed distributions (ex: log-normal distribution, cauchy distribution) have non-negligible number of extreme data points that may introduce bias in your samples \n",
    "\n",
    "### 5.1 Problems of non-normal distribution and central tendency\n",
    "#### 5.1.1 Problems with Skewness(asymmetry)\n",
    "- We could use median or rather than mean as a measure o fcentral tendency of a skewed distribution.\n",
    "- There are many parametric alternatives that account for skewness, such as skewness-adjusted t-test and Box-Cox transformation.\n",
    "\n",
    "#### 5.1.2 Problems with kurtosis (heavy-tails)\n",
    "Unlike skewness, which can be relatively easily adjusted, heavy-tails can be very painful in inferencial statistics. When a distribution has heavy-tails, it means that the sample has extreme data points that can introduce bias to statistical inferences.\n",
    "\n",
    "In finance, such property is translated into high risk & unpredictability, which is modeled by **Cauchy distributions**.\n",
    "\n",
    "Practitioners often neglect the distinction between light- vs heavy-tail because they visually don't look very different when plotted in PDF. This is a big **misconception**."
   ]
  },
  {
   "cell_type": "code",
   "execution_count": 3,
   "metadata": {},
   "outputs": [
    {
     "data": {
      "image/png": "[encoded data removed]",
      "text/plain": [
       "<Figure size 1008x288 with 2 Axes>"
      ]
     },
     "metadata": {},
     "output_type": "display_data"
    }
   ],
   "source": [
    "from scipy import stats\n",
    "import matplotlib.pyplot as plt\n",
    "import numpy as np\n",
    "\n",
    "plt.style.use('seaborn-whitegrid')\n",
    "\n",
    "x = np.linspace(0, 5, 1000)\n",
    "y1 = stats.expon.pdf(x, scale=1) + 0.1\n",
    "y2 = stats.lognorm.pdf(x, 0.5, loc=-0.001, scale=1)\n",
    "y3 = stats.norm.pdf(x, loc=2.5)\n",
    "y4 = stats.cauchy.pdf(x, loc=2.5)\n",
    "\n",
    "fig, axes = plt.subplots(1, 2, figsize=(14, 4))\n",
    "\n",
    "axes[0].plot(x, y1, label='Heavy-tail', color='k', linewidth=2)\n",
    "axes[0].plot(x, y2, label='Light-tail', color='grey', linewidth=2)\n",
    "axes[0].set_xlabel(r'Extreme values $\\longrightarrow$', fontsize=20)\n",
    "axes[1].plot(x, y3, label='Normal', color='k', linewidth=2)\n",
    "axes[1].plot(x, y4, label='Cauchy', color='grey', linewidth=2)\n",
    "axes[1].set_xlabel(r'$\\longleftarrow$ Extreme values $\\longrightarrow$', fontsize=20)\n",
    "\n",
    "for ax in axes:\n",
    "    ax.set_ylabel(r'Chance of occurrence $\\longrightarrow$', fontsize=20)\n",
    "    ax.yaxis.set_major_formatter(plt.NullFormatter())\n",
    "    ax.xaxis.set_major_formatter(plt.NullFormatter())\n",
    "    ax.legend(fontsize=17, loc='upper right', framealpha=1, frameon=True)\n",
    "    ax.grid(True, linestyle='--', color='#acacac')\n",
    "    _ = [spine.set_edgecolor('grey') for spine in ax.spines.values()]\n",
    "    ax.text(0.78, 0.3, 'aegis4048.github.io', fontsize=20, ha='center', va='center',\n",
    "            transform=ax.transAxes, color='grey', alpha=0.5)\n",
    "\n",
    "fig.tight_layout()"
   ]
  },
  {
   "cell_type": "markdown",
   "metadata": {},
   "source": [
    "#### Treatment to heavy tailed distribution:\n",
    "\n",
    "First step: map the distribution to a normal distribution using transformation techniques. However, the heavy-tails may still be present even after the presentation.\n",
    "\n",
    "If you are running a regression model, you may simply **remove** the tails and see if there's any performance improvement. \n",
    "\n",
    "In terms of inferencial statistics, naive removal maybe detrimental, as it completely ignores the extremity in your population. Sometimes the heavy-tails may suggest amalgamation of two distinct populations, in which case you may need to **separate them apart** before running your model."
   ]
  },
  {
   "cell_type": "markdown",
   "metadata": {},
   "source": [
    "#### 5.1.3 Problems with multi-modal distributions\n",
    "\n",
    "\n",
    "In case of multi-modal distributions, reporting the mean, median, or mode can be uninformative at all, as none of them describes the central location of populations. While it is possible to compute the confidence interval of statistics using non-parameteric methods like bootstrap, it is *useless*. "
   ]
  },
  {
   "cell_type": "markdown",
   "metadata": {},
   "source": [
    "### 5.2 Robustness of confidence intervals to non-normality\n",
    "Confidence interval of mean is robust to mild deviation from normality. This means that hypothesis tests that rely on the means (ex: t-test) are also robust to mild deviation from non-normality. There are a few variations of t-test that deals with mild non-normality (ex: **skewness-adjusted t-statistic**).\n",
    "\n",
    "*Confidence interval of variance* is **VERY sensitive** to even small deviation from non-normality. \n",
    "\n",
    "When sample is **normal**, you can use **f-test or Barlett's test** to check equality of variances. When the sample is **not normal**, use non-parametric alternative like **Levene's test**.\n",
    "\n",
    "\n",
    "How do WE know the severity of deviation from normality? Q-Q plots\n",
    "![title](conf_int_qq_plots.png)"
   ]
  },
  {
   "cell_type": "markdown",
   "metadata": {},
   "source": [
    "### 5.3 Transform to normal distribution: Box-Cox\n",
    "\n",
    "Box-Cox transformation is a type of **power transformation** to convert non-normal data to normal data by raising the distribution to a power of lambda (λ). The algorithm automatically solves for λ that best transforms a distribution into a normal distribution. The exception to this rule is when the λ is 0 - log will be taken to the distribution — log(Y). \n",
    " \n",
    "**Not all transforms work perfectly, especially in case of heavy tails.**\n",
    "\n",
    "Visualize your transformed histrogram, and the Q-Q plot to evaluate the performance of the transform. If the transform did not mitigate the skewness (this is rare), you will have to look for non-parametric alternatives, like bootstrap \n",
    "\n",
    "\n",
    "**All data to be positive and greater than 0 (Y > 0)** \n",
    "\n",
    "Box-Cox transformation does not work if data is smaller than 0. This can easily be fixed by adding a constant (C) that will make all your data greater than zero: Y' = (Y+C)^λ\n",
    "\n",
    "#### 5.3.1 SciPy Implementation\n",
    "\n",
    "Lets take a look of the original data and its distribution"
   ]
  },
  {
   "cell_type": "code",
   "execution_count": 14,
   "metadata": {},
   "outputs": [],
   "source": [
    "x= nhefs['wt71']"
   ]
  },
  {
   "cell_type": "code",
   "execution_count": 19,
   "metadata": {},
   "outputs": [
    {
     "data": {
      "text/html": [
       "<div>\n",
       "<style scoped>\n",
       "    .dataframe tbody tr th:only-of-type {\n",
       "        vertical-align: middle;\n",
       "    }\n",
       "\n",
       "    .dataframe tbody tr th {\n",
       "        vertical-align: top;\n",
       "    }\n",
       "\n",
       "    .dataframe thead th {\n",
       "        text-align: right;\n",
       "    }\n",
       "</style>\n",
       "<table border=\"1\" class=\"dataframe\">\n",
       "  <thead>\n",
       "    <tr style=\"text-align: right;\">\n",
       "      <th></th>\n",
       "      <th>count</th>\n",
       "      <th>mean</th>\n",
       "      <th>std</th>\n",
       "      <th>min</th>\n",
       "      <th>25%</th>\n",
       "      <th>50%</th>\n",
       "      <th>75%</th>\n",
       "      <th>max</th>\n",
       "      <th>Median</th>\n",
       "    </tr>\n",
       "  </thead>\n",
       "  <tbody>\n",
       "    <tr>\n",
       "      <th>wt71</th>\n",
       "      <td>1629.0</td>\n",
       "      <td>71.05213</td>\n",
       "      <td>15.72959</td>\n",
       "      <td>36.17</td>\n",
       "      <td>59.65</td>\n",
       "      <td>69.4</td>\n",
       "      <td>79.95</td>\n",
       "      <td>169.19</td>\n",
       "      <td>69.4</td>\n",
       "    </tr>\n",
       "  </tbody>\n",
       "</table>\n",
       "</div>"
      ],
      "text/plain": [
       "       count      mean       std    min    25%   50%    75%     max  Median\n",
       "wt71  1629.0  71.05213  15.72959  36.17  59.65  69.4  79.95  169.19    69.4"
      ]
     },
     "execution_count": 19,
     "metadata": {},
     "output_type": "execute_result"
    },
    {
     "data": {
      "image/png": "[encoded data removed]",
      "text/plain": [
       "<Figure size 720x216 with 2 Axes>"
      ]
     },
     "metadata": {},
     "output_type": "display_data"
    }
   ],
   "source": [
    "from scipy import stats\n",
    "import matplotlib.pyplot as plt\n",
    "import pandas as pd\n",
    "import numpy as np\n",
    "# plot\n",
    "fig, axes = plt.subplots(1, 2, figsize=(10, 3))\n",
    "axes[0].hist(x)\n",
    "stats.probplot(x, dist=stats.norm, plot=axes[1])\n",
    "fig.tight_layout()\n",
    "\n",
    "# summary statistics\n",
    "df = pd.DataFrame(x).describe().T\n",
    "df['Median'] = np.median(x)\n",
    "df"
   ]
  },
  {
   "cell_type": "markdown",
   "metadata": {},
   "source": [
    "The distribution seems to be non-normal. The mean is 71, and the median is 69. Let's transform this data into a normal distribution with Box-Cox transform."
   ]
  },
  {
   "cell_type": "code",
   "execution_count": 20,
   "metadata": {},
   "outputs": [
    {
     "data": {
      "text/html": [
       "<div>\n",
       "<style scoped>\n",
       "    .dataframe tbody tr th:only-of-type {\n",
       "        vertical-align: middle;\n",
       "    }\n",
       "\n",
       "    .dataframe tbody tr th {\n",
       "        vertical-align: top;\n",
       "    }\n",
       "\n",
       "    .dataframe thead th {\n",
       "        text-align: right;\n",
       "    }\n",
       "</style>\n",
       "<table border=\"1\" class=\"dataframe\">\n",
       "  <thead>\n",
       "    <tr style=\"text-align: right;\">\n",
       "      <th></th>\n",
       "      <th>count</th>\n",
       "      <th>mean</th>\n",
       "      <th>std</th>\n",
       "      <th>min</th>\n",
       "      <th>25%</th>\n",
       "      <th>50%</th>\n",
       "      <th>75%</th>\n",
       "      <th>max</th>\n",
       "      <th>Median</th>\n",
       "    </tr>\n",
       "  </thead>\n",
       "  <tbody>\n",
       "    <tr>\n",
       "      <th>0</th>\n",
       "      <td>1629.0</td>\n",
       "      <td>2.328039</td>\n",
       "      <td>0.055503</td>\n",
       "      <td>2.141464</td>\n",
       "      <td>2.28949</td>\n",
       "      <td>2.329845</td>\n",
       "      <td>2.365852</td>\n",
       "      <td>2.531802</td>\n",
       "      <td>2.329845</td>\n",
       "    </tr>\n",
       "  </tbody>\n",
       "</table>\n",
       "</div>"
      ],
      "text/plain": [
       "    count      mean       std       min      25%       50%       75%  \\\n",
       "0  1629.0  2.328039  0.055503  2.141464  2.28949  2.329845  2.365852   \n",
       "\n",
       "        max    Median  \n",
       "0  2.531802  2.329845  "
      ]
     },
     "execution_count": 20,
     "metadata": {},
     "output_type": "execute_result"
    },
    {
     "data": {
      "image/png": "[encoded data removed]",
      "text/plain": [
       "<Figure size 720x216 with 2 Axes>"
      ]
     },
     "metadata": {},
     "output_type": "display_data"
    }
   ],
   "source": [
    "# box-cox transform\n",
    "xt, lmbda = stats.boxcox(x)\n",
    "\n",
    "# plot\n",
    "fig, axes = plt.subplots(1, 2, figsize=(10, 3))\n",
    "axes[0].hist(xt)\n",
    "stats.probplot(xt, dist=stats.norm, plot=axes[1])\n",
    "fig.tight_layout()\n",
    "\n",
    "# summary statistics\n",
    "df = pd.DataFrame(xt).describe().T\n",
    "df['Median'] = np.median(xt)\n",
    "df"
   ]
  },
  {
   "cell_type": "markdown",
   "metadata": {},
   "source": [
    "The transformation seemed to work well. \n",
    "\n",
    "Then We proceed to calculate the confidence interval of your statistic. In this case, we compute the 95% C.I. of mean"
   ]
  },
  {
   "cell_type": "code",
   "execution_count": 24,
   "metadata": {},
   "outputs": [
    {
     "data": {
      "text/plain": [
       "(2.325341801600251, 2.3307363990554926)"
      ]
     },
     "execution_count": 24,
     "metadata": {},
     "output_type": "execute_result"
    }
   ],
   "source": [
    "lo_xt, hi_xt = stats.t.interval(1 - 0.05, \n",
    "                                len(xt) - 1, \n",
    "                                loc=np.mean(xt), \n",
    "                                scale=stats.sem(xt, ddof=1))\n",
    "\n",
    "(lo_xt, hi_xt)"
   ]
  },
  {
   "cell_type": "markdown",
   "metadata": {},
   "source": [
    "Note that the above C.I. of mean is in the transformed scale. We need to apply **back-transform** to put it back to its original scale. "
   ]
  },
  {
   "cell_type": "code",
   "execution_count": 26,
   "metadata": {},
   "outputs": [
    {
     "data": {
      "text/plain": [
       "(68.21256152942284, 69.63835662177185)"
      ]
     },
     "execution_count": 26,
     "metadata": {},
     "output_type": "execute_result"
    }
   ],
   "source": [
    "from scipy.special import inv_boxcox\n",
    "# inverse transform\n",
    "lo_x, hi_x = inv_boxcox(lo_xt, lmbda), inv_boxcox(hi_xt, lmbda)\n",
    "\n",
    "(lo_x, hi_x)"
   ]
  },
  {
   "cell_type": "markdown",
   "metadata": {},
   "source": [
    "The result is consistent with the statement in the WARNING above: \"when the transformed variable is symmetric, taking an inverse of the **transformed mean** yields the **median** of the original variable.\"\n",
    "\n",
    "We can also try non-parametric alternative bootstrap to obtain the C.I. of median of the non-normal distribution. "
   ]
  },
  {
   "cell_type": "code",
   "execution_count": 27,
   "metadata": {},
   "outputs": [
    {
     "data": {
      "text/plain": [
       "(68.27, 70.53)"
      ]
     },
     "execution_count": 27,
     "metadata": {},
     "output_type": "execute_result"
    }
   ],
   "source": [
    "iteration = 100000\n",
    "\n",
    "boot_median = [np.median(np.random.choice(x, len(x))) for _ in range(iteration)]\n",
    "lo_x_boot = np.percentile(boot_median, 2.5)\n",
    "hi_x_boot = np.percentile(boot_median, 97.5)\n",
    "\n",
    "(lo_x_boot, hi_x_boot)"
   ]
  },
  {
   "cell_type": "markdown",
   "metadata": {},
   "source": [
    "#### 5.3.2 SScikit-Learn implementation\n",
    "\n",
    "Recall that x is an 1-D array. Since Scikiy-Learn's Box-Cox expects 2-D array as input, "
   ]
  },
  {
   "cell_type": "code",
   "execution_count": 30,
   "metadata": {},
   "outputs": [
    {
     "data": {
      "text/html": [
       "<div>\n",
       "<style scoped>\n",
       "    .dataframe tbody tr th:only-of-type {\n",
       "        vertical-align: middle;\n",
       "    }\n",
       "\n",
       "    .dataframe tbody tr th {\n",
       "        vertical-align: top;\n",
       "    }\n",
       "\n",
       "    .dataframe thead th {\n",
       "        text-align: right;\n",
       "    }\n",
       "</style>\n",
       "<table border=\"1\" class=\"dataframe\">\n",
       "  <thead>\n",
       "    <tr style=\"text-align: right;\">\n",
       "      <th></th>\n",
       "      <th>count</th>\n",
       "      <th>mean</th>\n",
       "      <th>std</th>\n",
       "      <th>min</th>\n",
       "      <th>25%</th>\n",
       "      <th>50%</th>\n",
       "      <th>75%</th>\n",
       "      <th>max</th>\n",
       "      <th>Median</th>\n",
       "    </tr>\n",
       "  </thead>\n",
       "  <tbody>\n",
       "    <tr>\n",
       "      <th>0</th>\n",
       "      <td>1629.0</td>\n",
       "      <td>2.328039</td>\n",
       "      <td>0.055503</td>\n",
       "      <td>2.141464</td>\n",
       "      <td>2.28949</td>\n",
       "      <td>2.329845</td>\n",
       "      <td>2.365852</td>\n",
       "      <td>2.531802</td>\n",
       "      <td>2.329845</td>\n",
       "    </tr>\n",
       "  </tbody>\n",
       "</table>\n",
       "</div>"
      ],
      "text/plain": [
       "    count      mean       std       min      25%       50%       75%  \\\n",
       "0  1629.0  2.328039  0.055503  2.141464  2.28949  2.329845  2.365852   \n",
       "\n",
       "        max    Median  \n",
       "0  2.531802  2.329845  "
      ]
     },
     "execution_count": 30,
     "metadata": {},
     "output_type": "execute_result"
    },
    {
     "data": {
      "image/png": "[encoded data removed]",
      "text/plain": [
       "<Figure size 720x216 with 2 Axes>"
      ]
     },
     "metadata": {},
     "output_type": "display_data"
    }
   ],
   "source": [
    "# convert data type\n",
    "x_mat = np.asmatrix(x).T\n",
    "\n",
    "from sklearn.preprocessing import PowerTransformer\n",
    "\n",
    "# box-cox transform\n",
    "pt = PowerTransformer(method='box-cox', standardize=False)\n",
    "pt.fit(x_mat)\n",
    "xt = pt.transform(x_mat)\n",
    "\n",
    "# convert data type for plotting\n",
    "xt = xt.flatten()\n",
    "\n",
    "# plot\n",
    "fig, axes = plt.subplots(1, 2, figsize=(10, 3))\n",
    "axes[0].hist(xt)\n",
    "stats.probplot(xt, dist=stats.norm, plot=axes[1])\n",
    "fig.tight_layout()\n",
    "\n",
    "# summary statistics\n",
    "df = pd.DataFrame(xt).describe().T\n",
    "df['Median'] = np.median(xt)\n",
    "df"
   ]
  },
  {
   "cell_type": "code",
   "execution_count": 32,
   "metadata": {},
   "outputs": [
    {
     "name": "stdout",
     "output_type": "stream",
     "text": [
      "2.325341801600251 2.3307363990554926\n"
     ]
    },
    {
     "data": {
      "text/plain": [
       "(68.21256152942289, 69.63835662177183)"
      ]
     },
     "execution_count": 32,
     "metadata": {},
     "output_type": "execute_result"
    }
   ],
   "source": [
    "# 95% confidence interval of mean in a transformed scale\n",
    "lo_xt, hi_xt = stats.t.interval(1 - 0.05, \n",
    "                                len(xt) - 1, \n",
    "                                loc=np.mean(xt), \n",
    "                                scale=stats.sem(xt))\n",
    "print(lo_xt, hi_xt)\n",
    "# convert data type\n",
    "lo_xt_mat = np.asmatrix(lo_xt)\n",
    "hi_xt_mat = np.asmatrix(hi_xt)\n",
    "\n",
    "# inverse transform\n",
    "hi_x = pt.inverse_transform(hi_xt_mat)[0][0]\n",
    "lo_x = pt.inverse_transform(lo_xt_mat)[0][0]\n",
    "\n",
    "(lo_x, hi_x)"
   ]
  },
  {
   "cell_type": "markdown",
   "metadata": {},
   "source": [
    "### 5.4 Non-parametric alternative: Bootstrap\n",
    "Let's take a deeper look at the robustness of parametric vs non-parametric methods for different distributions by running simulations. We compute the confidence interval of mean and variance. CI of mean is known to be resistent to deviation from normality, while CI of variance is very sensitive. \n",
    "\n",
    "![title](conf_int_coverage.png) "
   ]
  },
  {
   "cell_type": "markdown",
   "metadata": {},
   "source": [
    "Hightlights\n",
    "\n",
    "1. Some statistics are sensitive to deviation from normality\n",
    "2. Parametric methods acquire 95% nominal coverage rate ONLY under normality\n",
    "3. Making an inference about heavy-tailed distribution is difficult\n",
    "4. Bootstrap outperforms parametric method under non-normality\n",
    "5. Parametric method outperforms non-parametric method under normality\n",
    "6. Non-parametric methods yield \"approximate\" solutions with smaller risk"
   ]
  },
  {
   "cell_type": "markdown",
   "metadata": {},
   "source": [
    "## Reference\n",
    "https://aegis4048.github.io/comprehensive_confidence_intervals_for_python_developers#5.4-Non-parametric-alternative:-Bootstrap"
   ]
  }
 ],
 "metadata": {
  "kernelspec": {
   "display_name": "Python 3",
   "language": "python",
   "name": "python3"
  },
  "language_info": {
   "codemirror_mode": {
    "name": "ipython",
    "version": 3
   },
   "file_extension": ".py",
   "mimetype": "text/x-python",
   "name": "python",
   "nbconvert_exporter": "python",
   "pygments_lexer": "ipython3",
   "version": "3.7.0"
  }
 },
 "nbformat": 4,
 "nbformat_minor": 2
}
