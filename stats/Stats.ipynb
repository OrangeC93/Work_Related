{
 "cells": [
  {
   "cell_type": "markdown",
   "metadata": {},
   "source": [
    "#### online significant calculation \n",
    "https://abtestguide.com/calc/\n",
    "\n",
    "\n",
    "#### p values\n",
    "https://blog.minitab.com/en/adventures-in-statistics-2/understanding-hypothesis-tests-significance-levels-alpha-and-p-values-in-statistics\n",
    "\n",
    "####  [SD vs SE](https://www.investopedia.com/ask/answers/042415/what-difference-between-standard-error-means-and-standard-deviation.asp)\n",
    "- **standard deviation (SD)** measures the amount of variability, or dispersion, from the individual data values to the mean, \n",
    "- **standard error of the mean (SEM)** measures how far the sample mean (average) of the data is likely to be from the true population mean. \n",
    "- [The SEM is always smaller than the SD](https://s4be.cochrane.org/blog/2018/09/26/a-beginners-guide-to-standard-deviation-and-standard-error/)\n",
    "- Calculation: Bootstrap\n",
    "\n",
    "#### [Sample size](https://sphweb.bumc.bu.edu/otlt/mph-modules/bs/bs704_power/bs704_power_print.html)\n",
    "\n",
    "#### [t test z test](https://zhuanlan.zhihu.com/p/120181558)"
   ]
  }
 ],
 "metadata": {
  "kernelspec": {
   "display_name": "Python 3",
   "language": "python",
   "name": "python3"
  },
  "language_info": {
   "codemirror_mode": {
    "name": "ipython",
    "version": 3
   },
   "file_extension": ".py",
   "mimetype": "text/x-python",
   "name": "python",
   "nbconvert_exporter": "python",
   "pygments_lexer": "ipython3",
   "version": "3.7.0"
  }
 },
 "nbformat": 4,
 "nbformat_minor": 2
}
