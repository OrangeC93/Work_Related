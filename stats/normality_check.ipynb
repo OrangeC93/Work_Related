{
 "cells": [
  {
   "cell_type": "code",
   "execution_count": 1,
   "metadata": {},
   "outputs": [],
   "source": [
    "import pandas as pd"
   ]
  },
  {
   "cell_type": "code",
   "execution_count": 2,
   "metadata": {},
   "outputs": [
    {
     "name": "stdout",
     "output_type": "stream",
     "text": [
      "NHEFS.xls                               non-normal_to_normal_distribution.ipynb\r\n",
      "conf_int_qq_plots.png                   normality_check.ipynb\r\n",
      "confidence_interval.ipynb\r\n"
     ]
    }
   ],
   "source": [
    "!ls"
   ]
  },
  {
   "cell_type": "code",
   "execution_count": 3,
   "metadata": {},
   "outputs": [],
   "source": [
    "df = pd.read_excel('NHEFS.xls')"
   ]
  },
  {
   "cell_type": "code",
   "execution_count": 4,
   "metadata": {
    "scrolled": false
   },
   "outputs": [
    {
     "data": {
      "text/html": [
       "<div>\n",
       "<style scoped>\n",
       "    .dataframe tbody tr th:only-of-type {\n",
       "        vertical-align: middle;\n",
       "    }\n",
       "\n",
       "    .dataframe tbody tr th {\n",
       "        vertical-align: top;\n",
       "    }\n",
       "\n",
       "    .dataframe thead th {\n",
       "        text-align: right;\n",
       "    }\n",
       "</style>\n",
       "<table border=\"1\" class=\"dataframe\">\n",
       "  <thead>\n",
       "    <tr style=\"text-align: right;\">\n",
       "      <th></th>\n",
       "      <th>seqn</th>\n",
       "      <th>qsmk</th>\n",
       "      <th>death</th>\n",
       "      <th>yrdth</th>\n",
       "      <th>modth</th>\n",
       "      <th>dadth</th>\n",
       "      <th>sbp</th>\n",
       "      <th>dbp</th>\n",
       "      <th>sex</th>\n",
       "      <th>age</th>\n",
       "      <th>...</th>\n",
       "      <th>birthcontrol</th>\n",
       "      <th>pregnancies</th>\n",
       "      <th>cholesterol</th>\n",
       "      <th>hightax82</th>\n",
       "      <th>price71</th>\n",
       "      <th>price82</th>\n",
       "      <th>tax71</th>\n",
       "      <th>tax82</th>\n",
       "      <th>price71_82</th>\n",
       "      <th>tax71_82</th>\n",
       "    </tr>\n",
       "  </thead>\n",
       "  <tbody>\n",
       "    <tr>\n",
       "      <th>0</th>\n",
       "      <td>233</td>\n",
       "      <td>0</td>\n",
       "      <td>0</td>\n",
       "      <td>NaN</td>\n",
       "      <td>NaN</td>\n",
       "      <td>NaN</td>\n",
       "      <td>175.0</td>\n",
       "      <td>96.0</td>\n",
       "      <td>0</td>\n",
       "      <td>42</td>\n",
       "      <td>...</td>\n",
       "      <td>2</td>\n",
       "      <td>NaN</td>\n",
       "      <td>197.0</td>\n",
       "      <td>0.0</td>\n",
       "      <td>2.183594</td>\n",
       "      <td>1.739990</td>\n",
       "      <td>1.102295</td>\n",
       "      <td>0.461975</td>\n",
       "      <td>0.443787</td>\n",
       "      <td>0.640381</td>\n",
       "    </tr>\n",
       "    <tr>\n",
       "      <th>1</th>\n",
       "      <td>235</td>\n",
       "      <td>0</td>\n",
       "      <td>0</td>\n",
       "      <td>NaN</td>\n",
       "      <td>NaN</td>\n",
       "      <td>NaN</td>\n",
       "      <td>123.0</td>\n",
       "      <td>80.0</td>\n",
       "      <td>0</td>\n",
       "      <td>36</td>\n",
       "      <td>...</td>\n",
       "      <td>2</td>\n",
       "      <td>NaN</td>\n",
       "      <td>301.0</td>\n",
       "      <td>0.0</td>\n",
       "      <td>2.346680</td>\n",
       "      <td>1.797363</td>\n",
       "      <td>1.364990</td>\n",
       "      <td>0.571899</td>\n",
       "      <td>0.549316</td>\n",
       "      <td>0.792969</td>\n",
       "    </tr>\n",
       "    <tr>\n",
       "      <th>2</th>\n",
       "      <td>244</td>\n",
       "      <td>0</td>\n",
       "      <td>0</td>\n",
       "      <td>NaN</td>\n",
       "      <td>NaN</td>\n",
       "      <td>NaN</td>\n",
       "      <td>115.0</td>\n",
       "      <td>75.0</td>\n",
       "      <td>1</td>\n",
       "      <td>56</td>\n",
       "      <td>...</td>\n",
       "      <td>0</td>\n",
       "      <td>2.0</td>\n",
       "      <td>157.0</td>\n",
       "      <td>0.0</td>\n",
       "      <td>1.569580</td>\n",
       "      <td>1.513428</td>\n",
       "      <td>0.551270</td>\n",
       "      <td>0.230988</td>\n",
       "      <td>0.056198</td>\n",
       "      <td>0.320251</td>\n",
       "    </tr>\n",
       "    <tr>\n",
       "      <th>3</th>\n",
       "      <td>245</td>\n",
       "      <td>0</td>\n",
       "      <td>1</td>\n",
       "      <td>85.0</td>\n",
       "      <td>2.0</td>\n",
       "      <td>14.0</td>\n",
       "      <td>148.0</td>\n",
       "      <td>78.0</td>\n",
       "      <td>0</td>\n",
       "      <td>68</td>\n",
       "      <td>...</td>\n",
       "      <td>2</td>\n",
       "      <td>NaN</td>\n",
       "      <td>174.0</td>\n",
       "      <td>0.0</td>\n",
       "      <td>1.506592</td>\n",
       "      <td>1.451904</td>\n",
       "      <td>0.524902</td>\n",
       "      <td>0.219971</td>\n",
       "      <td>0.054794</td>\n",
       "      <td>0.304993</td>\n",
       "    </tr>\n",
       "    <tr>\n",
       "      <th>4</th>\n",
       "      <td>252</td>\n",
       "      <td>0</td>\n",
       "      <td>0</td>\n",
       "      <td>NaN</td>\n",
       "      <td>NaN</td>\n",
       "      <td>NaN</td>\n",
       "      <td>118.0</td>\n",
       "      <td>77.0</td>\n",
       "      <td>0</td>\n",
       "      <td>40</td>\n",
       "      <td>...</td>\n",
       "      <td>2</td>\n",
       "      <td>NaN</td>\n",
       "      <td>216.0</td>\n",
       "      <td>0.0</td>\n",
       "      <td>2.346680</td>\n",
       "      <td>1.797363</td>\n",
       "      <td>1.364990</td>\n",
       "      <td>0.571899</td>\n",
       "      <td>0.549316</td>\n",
       "      <td>0.792969</td>\n",
       "    </tr>\n",
       "  </tbody>\n",
       "</table>\n",
       "<p>5 rows × 64 columns</p>\n",
       "</div>"
      ],
      "text/plain": [
       "   seqn  qsmk  death  yrdth  modth  dadth    sbp   dbp  sex  age  ...  \\\n",
       "0   233     0      0    NaN    NaN    NaN  175.0  96.0    0   42  ...   \n",
       "1   235     0      0    NaN    NaN    NaN  123.0  80.0    0   36  ...   \n",
       "2   244     0      0    NaN    NaN    NaN  115.0  75.0    1   56  ...   \n",
       "3   245     0      1   85.0    2.0   14.0  148.0  78.0    0   68  ...   \n",
       "4   252     0      0    NaN    NaN    NaN  118.0  77.0    0   40  ...   \n",
       "\n",
       "   birthcontrol  pregnancies  cholesterol  hightax82   price71   price82  \\\n",
       "0             2          NaN        197.0        0.0  2.183594  1.739990   \n",
       "1             2          NaN        301.0        0.0  2.346680  1.797363   \n",
       "2             0          2.0        157.0        0.0  1.569580  1.513428   \n",
       "3             2          NaN        174.0        0.0  1.506592  1.451904   \n",
       "4             2          NaN        216.0        0.0  2.346680  1.797363   \n",
       "\n",
       "      tax71     tax82  price71_82  tax71_82  \n",
       "0  1.102295  0.461975    0.443787  0.640381  \n",
       "1  1.364990  0.571899    0.549316  0.792969  \n",
       "2  0.551270  0.230988    0.056198  0.320251  \n",
       "3  0.524902  0.219971    0.054794  0.304993  \n",
       "4  1.364990  0.571899    0.549316  0.792969  \n",
       "\n",
       "[5 rows x 64 columns]"
      ]
     },
     "execution_count": 4,
     "metadata": {},
     "output_type": "execute_result"
    }
   ],
   "source": [
    "df.head()"
   ]
  },
  {
   "cell_type": "code",
   "execution_count": 5,
   "metadata": {},
   "outputs": [
    {
     "data": {
      "text/plain": [
       "Index(['seqn', 'qsmk', 'death', 'yrdth', 'modth', 'dadth', 'sbp', 'dbp', 'sex',\n",
       "       'age', 'race', 'income', 'marital', 'school', 'education', 'ht', 'wt71',\n",
       "       'wt82', 'wt82_71', 'birthplace', 'smokeintensity', 'smkintensity82_71',\n",
       "       'smokeyrs', 'asthma', 'bronch', 'tb', 'hf', 'hbp', 'pepticulcer',\n",
       "       'colitis', 'hepatitis', 'chroniccough', 'hayfever', 'diabetes', 'polio',\n",
       "       'tumor', 'nervousbreak', 'alcoholpy', 'alcoholfreq', 'alcoholtype',\n",
       "       'alcoholhowmuch', 'pica', 'headache', 'otherpain', 'weakheart',\n",
       "       'allergies', 'nerves', 'lackpep', 'hbpmed', 'boweltrouble', 'wtloss',\n",
       "       'infection', 'active', 'exercise', 'birthcontrol', 'pregnancies',\n",
       "       'cholesterol', 'hightax82', 'price71', 'price82', 'tax71', 'tax82',\n",
       "       'price71_82', 'tax71_82'],\n",
       "      dtype='object')"
      ]
     },
     "execution_count": 5,
     "metadata": {},
     "output_type": "execute_result"
    }
   ],
   "source": [
    "df.columns"
   ]
  },
  {
   "cell_type": "markdown",
   "metadata": {},
   "source": [
    "## 1. Grap test\n",
    "#### 1. Q-Q Plot\n",
    "\n",
    "If our variable follows a normal distribution, the quantiles of our variable must be perfectly in line with the “theoretical” normal quantiles: a straight line on the QQ Plot tells us we have a normal distribution."
   ]
  },
  {
   "cell_type": "code",
   "execution_count": 7,
   "metadata": {},
   "outputs": [
    {
     "data": {
      "image/png": "[encoded data removed]",
      "text/plain": [
       "<Figure size 432x288 with 1 Axes>"
      ]
     },
     "metadata": {
      "needs_background": "light"
     },
     "output_type": "display_data"
    }
   ],
   "source": [
    "import numpy as np\n",
    "import scipy.stats as stats\n",
    "import pylab\n",
    "\n",
    "stats.probplot(df['pregnancies'], dist='norm', plot=pylab)\n",
    "pylab.show()"
   ]
  },
  {
   "cell_type": "code",
   "execution_count": 16,
   "metadata": {},
   "outputs": [
    {
     "name": "stderr",
     "output_type": "stream",
     "text": [
      "/Library/Frameworks/Python.framework/Versions/3.7/lib/python3.7/site-packages/numpy/lib/histograms.py:393: RuntimeWarning: invalid value encountered in greater_equal\n",
      "  keep = (a >= first_edge)\n",
      "/Library/Frameworks/Python.framework/Versions/3.7/lib/python3.7/site-packages/numpy/lib/histograms.py:394: RuntimeWarning: invalid value encountered in less_equal\n",
      "  keep &= (a <= last_edge)\n",
      "/Library/Frameworks/Python.framework/Versions/3.7/lib/python3.7/site-packages/numpy/lib/histograms.py:829: RuntimeWarning: invalid value encountered in greater_equal\n",
      "  keep = (tmp_a >= first_edge)\n",
      "/Library/Frameworks/Python.framework/Versions/3.7/lib/python3.7/site-packages/numpy/lib/histograms.py:830: RuntimeWarning: invalid value encountered in less_equal\n",
      "  keep &= (tmp_a <= last_edge)\n"
     ]
    },
    {
     "data": {
      "image/png": "[encoded data removed]",
      "text/plain": [
       "<Figure size 432x288 with 4 Axes>"
      ]
     },
     "metadata": {},
     "output_type": "display_data"
    }
   ],
   "source": [
    "import matplotlib.pyplot as plt\n",
    "plt.style.use('seaborn-whitegrid')\n",
    "\n",
    "fig, axes = plt.subplots(2, 2, figsize=(6, 4))\n",
    "stats.probplot(df['pregnancies'], dist=stats.norm, plot=axes[0, 0])\n",
    "stats.probplot(df['smokeintensity'], dist=stats.norm, plot=axes[0, 1])\n",
    "\n",
    "axes[0, 0].set_title('Q-Q plot for pregnancies')\n",
    "axes[0, 1].set_title(' Q-Q plot for smokeintensity')\n",
    "\n",
    "axes[1, 0].hist(df['pregnancies'], density=True, bins='auto')\n",
    "axes[1, 1].hist(df['smokeintensity'], density=True, bins='auto')\n",
    "\n",
    "fig.tight_layout()"
   ]
  },
  {
   "cell_type": "markdown",
   "metadata": {},
   "source": [
    "#### 2. [Box Plot](https://matplotlib.org/stable/gallery/pyplots/boxplot_demo_pyplot.html)\n",
    "If your variable has a normal distribution, we should see the mean and median in the center"
   ]
  },
  {
   "cell_type": "code",
   "execution_count": 8,
   "metadata": {},
   "outputs": [
    {
     "data": {
      "text/plain": [
       "{'whiskers': [<matplotlib.lines.Line2D at 0x7fc3abd45828>,\n",
       "  <matplotlib.lines.Line2D at 0x7fc3abd45ba8>],\n",
       " 'caps': [<matplotlib.lines.Line2D at 0x7fc3abd45ef0>,\n",
       "  <matplotlib.lines.Line2D at 0x7fc3abd45fd0>],\n",
       " 'boxes': [<matplotlib.lines.Line2D at 0x7fc3abd454a8>],\n",
       " 'medians': [<matplotlib.lines.Line2D at 0x7fc3abd535c0>],\n",
       " 'fliers': [],\n",
       " 'means': []}"
      ]
     },
     "execution_count": 8,
     "metadata": {},
     "output_type": "execute_result"
    },
    {
     "data": {
      "image/png": "[encoded data removed]",
      "text/plain": [
       "<Figure size 432x288 with 1 Axes>"
      ]
     },
     "metadata": {
      "needs_background": "light"
     },
     "output_type": "display_data"
    }
   ],
   "source": [
    "import matplotlib.pyplot as plt\n",
    "\n",
    "fig, ax = plt.subplots()\n",
    "ax.boxplot(df['smokeintensity'], showfliers=False, vert=False,)"
   ]
  },
  {
   "cell_type": "code",
   "execution_count": 9,
   "metadata": {},
   "outputs": [
    {
     "name": "stderr",
     "output_type": "stream",
     "text": [
      "/Library/Frameworks/Python.framework/Versions/3.7/lib/python3.7/site-packages/statsmodels/tools/_testing.py:19: FutureWarning: pandas.util.testing is deprecated. Use the functions in the public API at pandas.testing instead.\n",
      "  import pandas.util.testing as tm\n"
     ]
    },
    {
     "data": {
      "image/png": "[encoded data removed]",
      "text/plain": [
       "<Figure size 432x288 with 1 Axes>"
      ]
     },
     "metadata": {
      "needs_background": "light"
     },
     "output_type": "display_data"
    }
   ],
   "source": [
    "import seaborn as sns\n",
    "ax = sns.boxplot(df['smokeintensity'])"
   ]
  },
  {
   "cell_type": "markdown",
   "metadata": {},
   "source": [
    "#### 3. [Histogram](https://www.gaussianwaves.com/2020/06/using-matplotlib-histogram-in-python/)\n",
    "\n",
    "If your variable has a normal distribution, we should see a bell curve."
   ]
  },
  {
   "cell_type": "code",
   "execution_count": 10,
   "metadata": {},
   "outputs": [
    {
     "data": {
      "text/plain": [
       "[<matplotlib.lines.Line2D at 0x7fc3adb25710>]"
      ]
     },
     "execution_count": 10,
     "metadata": {},
     "output_type": "execute_result"
    },
    {
     "data": {
      "image/png": "[encoded data removed]",
      "text/plain": [
       "<Figure size 432x288 with 1 Axes>"
      ]
     },
     "metadata": {
      "needs_background": "light"
     },
     "output_type": "display_data"
    }
   ],
   "source": [
    "import scipy.stats as stats\n",
    "\n",
    "(values, bins, _) = plt.hist(df['smokeintensity'],  density=True)\n",
    "bin_centers = 0.5*(bins[1:] + bins[:-1])\n",
    "mu = np.mean(df['smokeintensity'])\n",
    "sigma = df['smokeintensity'].std()\n",
    "\n",
    "pdf = stats.norm.pdf(x = bin_centers, loc=mu, scale=sigma) #Compute probability density function\n",
    "plt.plot(bin_centers, pdf, label=\"PDF\",color='red')"
   ]
  },
  {
   "cell_type": "code",
   "execution_count": 13,
   "metadata": {
    "scrolled": false
   },
   "outputs": [
    {
     "data": {
      "image/png": "[encoded data removed]",
      "text/plain": [
       "<Figure size 432x288 with 1 Axes>"
      ]
     },
     "metadata": {
      "needs_background": "light"
     },
     "output_type": "display_data"
    }
   ],
   "source": [
    "import seaborn as sns\n",
    "ax = sns.distplot(df['smokeintensity'])"
   ]
  },
  {
   "cell_type": "markdown",
   "metadata": {},
   "source": [
    "## 2. Statistical Test for Normality\n",
    "#### 1. Shapiro-Wilk Test\n",
    "It is the most powerful test to check the normality of a variable. It was proposed in 1965 by Samuel Sanford Shapiro and Martin Wilk.\n",
    "\n",
    "- If the p-value ≤ 0.05, then we reject the null hypothesis i.e. we assume the distribution of our variable is not normal/gaussian.\n",
    "- If the p-value > 0.05, then we fail to reject the null hypothesis i.e. we assume the distribution of our variable is normal/gaussian."
   ]
  },
  {
   "cell_type": "code",
   "execution_count": 62,
   "metadata": {},
   "outputs": [
    {
     "name": "stdout",
     "output_type": "stream",
     "text": [
      "8.530235502077642e-28\n"
     ]
    }
   ],
   "source": [
    "from scipy.stats import shapiro\n",
    "\n",
    "stats, p = shapiro(df['smokeintensity'])\n",
    "print(p)"
   ]
  },
  {
   "cell_type": "markdown",
   "metadata": {},
   "source": [
    "#### 2. D’Agostino’s K-squared test\n",
    "D’Agostino’s K-squared test check’s normality of a variable based on skewness and kurtosis. It was named by Ralph D’Agostino.\n",
    "- If the p-value ≤ 0.05, then we reject the null hypothesis i.e. we assume the distribution of our variable is not normal/gaussian.\n",
    "- If the p-value > 0.05, then we fail to reject the null hypothesis i.e. we assume the distribution of our variable is normal/gaussian."
   ]
  },
  {
   "cell_type": "code",
   "execution_count": 38,
   "metadata": {},
   "outputs": [
    {
     "name": "stdout",
     "output_type": "stream",
     "text": [
      "4.222727806537973e-32\n"
     ]
    }
   ],
   "source": [
    "from scipy.stats import normaltest\n",
    "\n",
    "stats, p = normaltest(df['smokeintensity'])\n",
    "print(p)"
   ]
  },
  {
   "cell_type": "markdown",
   "metadata": {},
   "source": [
    "#### 3. Anderson-Darling Normality Test\n",
    "Anderson-Darling Normality Test is another general normality tests designed to determine if the data comes from a specified distribution, in our case, the normal distribution. It was developed in 1952 by Theodore Anderson and Donald Darling.\n",
    "\n",
    "\n",
    "It gives a range of critical values, at which the null hypothesis can be failed to rejected if the calculated statistic is less than the critical value."
   ]
  },
  {
   "cell_type": "code",
   "execution_count": 39,
   "metadata": {},
   "outputs": [],
   "source": [
    "from scipy.stats import anderson\n",
    "\n",
    "results = anderson(df['smokeintensity'])"
   ]
  },
  {
   "cell_type": "code",
   "execution_count": 42,
   "metadata": {},
   "outputs": [
    {
     "data": {
      "text/plain": [
       "AndersonResult(statistic=47.44436452032505, critical_values=array([0.575, 0.654, 0.785, 0.916, 1.089]), significance_level=array([15. , 10. ,  5. ,  2.5,  1. ]))"
      ]
     },
     "execution_count": 42,
     "metadata": {},
     "output_type": "execute_result"
    }
   ],
   "source": [
    "results"
   ]
  },
  {
   "cell_type": "code",
   "execution_count": 41,
   "metadata": {
    "scrolled": true
   },
   "outputs": [
    {
     "name": "stdout",
     "output_type": "stream",
     "text": [
      "47.44436452032505\n"
     ]
    }
   ],
   "source": [
    "print(results.statistic)"
   ]
  },
  {
   "cell_type": "markdown",
   "metadata": {},
   "source": [
    "#### 4. Chi-Square Normality Test\n",
    "\n",
    "- If the p-value ≤ 0.05, then we reject the null hypothesis i.e. we assume the distribution of our variable is not normal/gaussian.\n",
    "- If the p-value > 0.05, then we fail to reject the null hypothesis i.e. we assume the distribution of our variable is normal/gaussian."
   ]
  },
  {
   "cell_type": "code",
   "execution_count": 44,
   "metadata": {},
   "outputs": [
    {
     "name": "stdout",
     "output_type": "stream",
     "text": [
      "0.0\n"
     ]
    }
   ],
   "source": [
    "from scipy.stats import chisquare\n",
    "\n",
    "statistic, pvalue = chisquare(df['smokeintensity'])\n",
    "print(pvalue)"
   ]
  },
  {
   "cell_type": "markdown",
   "metadata": {},
   "source": [
    "#### 5. Lilliefors Test for Normality\n",
    "The Lilliefors test is a normality test based on the Kolmogorov–Smirnov test(later). The difference is that in the Lilliefors test, it is accepted that the mean and variance of the population distribution are estimated rather than pre-specified by the user.\n",
    "\n",
    "As all the above methods, this test is used to check if the data come from a normal distribution. It is named after Hubert Lilliefors, professor of statistics at George Washington University.\n",
    "\n",
    "Although Lilliefors is an improvement to the KS test it’s power is still lower than the Shapiro Wilk test.\n",
    "\n",
    "\n",
    "- If the p-value ≤ 0.05, then we reject the null hypothesis i.e. we assume the distribution of our variable is not normal/gaussian.\n",
    "- If the p-value > 0.05, then we fail to reject the null hypothesis i.e. we assume the distribution of our variable is normal/gaussian."
   ]
  },
  {
   "cell_type": "code",
   "execution_count": 50,
   "metadata": {},
   "outputs": [
    {
     "name": "stdout",
     "output_type": "stream",
     "text": [
      "2.868962893333416e-256\n"
     ]
    }
   ],
   "source": [
    "from statsmodels.stats.diagnostic import lilliefors\n",
    "\n",
    "stats, p = lilliefors(df['smokeintensity'])\n",
    "print(p)"
   ]
  },
  {
   "cell_type": "markdown",
   "metadata": {},
   "source": [
    "#### 6. Jarque–Bera test for Normality\n",
    "The Jarque-Bera test tests whether the sample data has the skewness and kurtosis matching a normal distribution.\n",
    "\n",
    "Note: this test only works for a large enough number of data samples(>2000)"
   ]
  },
  {
   "cell_type": "code",
   "execution_count": 51,
   "metadata": {},
   "outputs": [
    {
     "name": "stdout",
     "output_type": "stream",
     "text": [
      "0.0\n"
     ]
    }
   ],
   "source": [
    "from scipy.stats import jarque_bera\n",
    "\n",
    "stats, p = jarque_bera(df['smokeintensity'])\n",
    "print(p)"
   ]
  },
  {
   "cell_type": "markdown",
   "metadata": {},
   "source": [
    "#### 7. Kolmogorov-Smirnov test for Normality\n",
    "Performs the (one sample or two samples) Kolmogorov-Smirnov test for goodness of fit. The one-sample test performs a test of the distribution F(x) of an observed random variable against a given distribution G(x) (i.e. a normal distribution).\n",
    "\n",
    "\n",
    "The advantage of this is that the same approach can be used for comparing any distribution, not necessary the normal distribution only."
   ]
  },
  {
   "cell_type": "code",
   "execution_count": 49,
   "metadata": {},
   "outputs": [
    {
     "name": "stdout",
     "output_type": "stream",
     "text": [
      "0.0\n"
     ]
    }
   ],
   "source": [
    "from scipy.stats import kstest\n",
    "\n",
    "stats, p = kstest(df['smokeintensity'], 'norm')\n",
    "print(p)"
   ]
  },
  {
   "cell_type": "markdown",
   "metadata": {},
   "source": [
    "## Reference\n",
    "\n",
    "https://towardsdatascience.com/normality-tests-in-python-31e04aa4f411\n",
    "    \n",
    "https://towardsdatascience.com/6-ways-to-test-for-a-normal-distribution-which-one-to-use-9dcf47d8fa93"
   ]
  }
 ],
 "metadata": {
  "kernelspec": {
   "display_name": "Python 3",
   "language": "python",
   "name": "python3"
  },
  "language_info": {
   "codemirror_mode": {
    "name": "ipython",
    "version": 3
   },
   "file_extension": ".py",
   "mimetype": "text/x-python",
   "name": "python",
   "nbconvert_exporter": "python",
   "pygments_lexer": "ipython3",
   "version": "3.7.0"
  }
 },
 "nbformat": 4,
 "nbformat_minor": 2
}
